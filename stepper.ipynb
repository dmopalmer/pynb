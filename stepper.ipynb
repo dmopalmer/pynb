{
 "metadata": {
  "name": "stepper"
 },
 "nbformat": 3,
 "nbformat_minor": 0,
 "worksheets": [
  {
   "cells": [
    {
     "cell_type": "markdown",
     "metadata": {},
     "source": [
      "Playing around with a stepper motor\n",
      "Specifically, a 28BJY-48 stepper, available with driver for ~$5 miany places on the web.\n",
      "\n",
      "This is a unipolar motor, with gearbox, that requires ~4075.8 helf-steps to rotate the shaft 360 degrees.\n"
     ]
    },
    {
     "cell_type": "code",
     "collapsed": false,
     "input": [
      "import RPi.GPIO as GPIO\n",
      "\n",
      "import datetime\n",
      "import time\n",
      "import fractions\n",
      "\n",
      "GPIO.setmode(GPIO.BOARD)\n",
      "\n",
      "# This is my setup right now\n",
      "# stepper_pins_GPIO=[23,24,25,18]\n",
      "# Use board pins\n",
      "stepper_pins = [16,18,22,12]\n",
      "\n",
      "#this is the half-step pattern\n",
      "stepper_pattern=[\n",
      "    [1,0,0,0],\n",
      "    [1,1,0,0],\n",
      "    [0,1,0,0],\n",
      "    [0,1,1,0],\n",
      "    [0,0,1,0],\n",
      "    [0,0,1,1],\n",
      "    [0,0,0,1],\n",
      "    [1,0,0,1]]\n",
      "\n",
      "# Stepper minimal data sheet is at\n",
      "# http://www.raspberrypi-spy.co.uk/wp-content/uploads/2012/07/Stepper-Motor-28BJY-48-Datasheet.pdf\n",
      "# shaft is 5+0/-0.1 mm in diamter flattened both sides to 3+0/-0.15 thick \n",
      "# 4096 half-steps per rotation, but 4080 seems to be a more accurate value\n",
      "# http://forums.parallax.com/archive/index.php/t-141149.html\n",
      "# Actual number is 1650688/405 ~ 4075.7728395061727\n",
      "# At 0.0007 s stepdelay, it sometimes loses steps, but seems to\n",
      "# be good at 0.001 s when not loaded\n",
      "\n",
      "class stepper :\n",
      "    def __init__(self, pins = stepper_pins, \n",
      "                pattern = stepper_pattern, \n",
      "                startstep = 0, \n",
      "                stepdelay=0.001, \n",
      "                stepsperrev=fractions.Fraction(1650688,405)) :\n",
      "        GPIO.setmode(GPIO.BOARD)   # Use GPIO pin numbers 18,23,24, etc. rather than 0..8\n",
      "        self._pins = pins\n",
      "        self._pattern = pattern\n",
      "        self._bits = [2,2,2,2]\n",
      "        self._stepdelay = stepdelay\n",
      "        self._stepsperrev = stepsperrev\n",
      "        self._homephase = 0\n",
      "        self._stopped = 1\n",
      "        # self.jamstep(startstep, forcebits=True)\n",
      "        for pin in self._pins :\n",
      "            GPIO.setup(pin, GPIO.OUT)\n",
      "        # Call jamstep again to ensure that the pins are the proper values after setup\n",
      "        self.jamstep(startstep, forcebits=True)\n",
      "    def jamstep(self, newstep, forcebits=False) :\n",
      "        \"\"\" Set the pin values to the levels appropriate for this step\n",
      "            If requested, force all bits appropriately, otherwise only\n",
      "            change the ones that need changing \"\"\"\n",
      "        if self._stopped :\n",
      "            forcebits = True\n",
      "        modstep = (newstep + self._homephase) % len(self._pattern)\n",
      "        newbits = self._pattern[modstep]\n",
      "        for (pin,oldvalue,newvalue) in zip(self._pins, self._bits, newbits) :\n",
      "            if forcebits or (oldvalue != newvalue) :\n",
      "                #print(pin,\"(\",oldvalue,\"->\",newvalue,end=\") \",sep=\"\")\n",
      "                GPIO.output(pin,newvalue)\n",
      "            #else :\n",
      "                #print(pin,\"(\",oldvalue,\"==\",newvalue,end=\") \",sep=\"\")\n",
      "        # print()\n",
      "        self._bits = newbits\n",
      "        self._step = newstep\n",
      "        self._lastTime = datetime.datetime.utcnow()\n",
      "        self._stopped = False\n",
      "    def stop(self) :\n",
      "        \"\"\" Turn off power to the motor \"\"\"\n",
      "        time.sleep(self._stepdelay * 4)\n",
      "        for pin in self._pins :\n",
      "            GPIO.output(pin,0)\n",
      "        self._lastTime = datetime.datetime.utcnow()\n",
      "        self._stopped = True\n",
      "    def stepto(self, endstep) :\n",
      "        for s in range(self._step + 1, endstep+1) if self._step < endstep else range(self._step-1,endstep-1,-1) :\n",
      "            dt = (datetime.datetime.utcnow() - self._lastTime).total_seconds()\n",
      "            if (dt <= self._stepdelay) :\n",
      "                time.sleep(self._stepdelay - dt if dt > 0 else self._stepdelay)\n",
      "            self.jamstep(s)\n",
      "        self.stop()\n",
      "    def steptorev(self, revolution) :\n",
      "        \"\"\" Step to the given number of revs\"\"\"\n",
      "        self.stepto(round(revolution*self._stepsperrev))\n",
      "        self.stop()\n",
      "    def stepby(self, dstep) :\n",
      "        self.stepto(self._step+dstep)\n",
      "    def sethome(self,value=0) :\n",
      "        \"\"\" Set the current location to be the home, corresponding to step==value\"\"\"\n",
      "        # If the current location is at, e.g. 1007, then make self._homephase == 7\n",
      "        # so that gives the correct pattern\n",
      "        self._homephase = (self._step + self._homephase - value) % len(self._pattern)\n",
      "        self._step = value\n",
      "        \n",
      "s=stepper()\n",
      "\n",
      "s.steptorev(1.0)"
     ],
     "language": "python",
     "metadata": {},
     "outputs": [],
     "prompt_number": 224
    },
    {
     "cell_type": "code",
     "collapsed": false,
     "input": [
      "#s._stepdelay=0.001\n",
      "s.stepby(+8)\n",
      "print(s._step)"
     ],
     "language": "python",
     "metadata": {},
     "outputs": [
      {
       "output_type": "stream",
       "stream": "stdout",
       "text": [
        "40800\n"
       ]
      }
     ],
     "prompt_number": 202
    },
    {
     "cell_type": "code",
     "collapsed": false,
     "input": [
      "s.sethome(0)\n",
      "s._stepdelay=0.0007\n",
      "s.steptorev(1.0)"
     ],
     "language": "python",
     "metadata": {},
     "outputs": [],
     "prompt_number": 244
    },
    {
     "cell_type": "code",
     "collapsed": false,
     "input": [
      "for r in range(0,101) :\n",
      "    s.steptorev(r)\n",
      "    time.sleep(0.5)\n"
     ],
     "language": "python",
     "metadata": {},
     "outputs": [],
     "prompt_number": 245
    },
    {
     "cell_type": "code",
     "collapsed": false,
     "input": [
      "for step in range(0, 11*4096, 4096) :\n",
      "    s.stepto(step)\n",
      "    time.sleep(0.5)"
     ],
     "language": "python",
     "metadata": {},
     "outputs": [],
     "prompt_number": 173
    },
    {
     "cell_type": "code",
     "collapsed": false,
     "input": [
      "for step in range(10*4096, 0, -4096) :\n",
      "    s.stepto(step)\n",
      "    time.sleep(0.5)"
     ],
     "language": "python",
     "metadata": {},
     "outputs": [],
     "prompt_number": 172
    }
   ],
   "metadata": {}
  }
 ]
}