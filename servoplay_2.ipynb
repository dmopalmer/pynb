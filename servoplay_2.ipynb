{
 "metadata": {
  "name": "servoplay_2"
 },
 "nbformat": 3,
 "nbformat_minor": 0,
 "worksheets": [
  {
   "cells": [
    {
     "cell_type": "code",
     "collapsed": false,
     "input": [
      "import RPIO\n",
      "import RPIO.PWM\n",
      "import datetime\n",
      "import time\n",
      "servpin=24"
     ],
     "language": "python",
     "metadata": {},
     "outputs": [],
     "prompt_number": 1
    },
    {
     "cell_type": "code",
     "collapsed": false,
     "input": [
      "servo=RPIO.PWM.Servo()\n",
      "servo.set_servo(servpin,1500)\n",
      "time.sleep(2)\n",
      "for i in  range(1000,2000,10) :\n",
      "    servo.set_servo(servpin,i)\n",
      "    print i,\n",
      "    time.sleep(1.500)\n",
      "\n",
      "servo.stop_servo(24)\n"
     ],
     "language": "python",
     "metadata": {},
     "outputs": [
      {
       "output_type": "stream",
       "stream": "stdout",
       "text": [
        " 1000 "
       ]
      },
      {
       "output_type": "stream",
       "stream": "stdout",
       "text": [
        "1010 "
       ]
      },
      {
       "output_type": "stream",
       "stream": "stdout",
       "text": [
        "1020 "
       ]
      },
      {
       "output_type": "stream",
       "stream": "stdout",
       "text": [
        "1030 "
       ]
      },
      {
       "output_type": "stream",
       "stream": "stdout",
       "text": [
        "1040 "
       ]
      },
      {
       "output_type": "stream",
       "stream": "stdout",
       "text": [
        "1050 "
       ]
      },
      {
       "output_type": "stream",
       "stream": "stdout",
       "text": [
        "1060 "
       ]
      },
      {
       "output_type": "stream",
       "stream": "stdout",
       "text": [
        "1070 "
       ]
      },
      {
       "output_type": "stream",
       "stream": "stdout",
       "text": [
        "1080 "
       ]
      },
      {
       "output_type": "stream",
       "stream": "stdout",
       "text": [
        "1090 "
       ]
      },
      {
       "output_type": "stream",
       "stream": "stdout",
       "text": [
        "1100 "
       ]
      },
      {
       "output_type": "stream",
       "stream": "stdout",
       "text": [
        "1110 "
       ]
      },
      {
       "output_type": "stream",
       "stream": "stdout",
       "text": [
        "1120 "
       ]
      },
      {
       "output_type": "stream",
       "stream": "stdout",
       "text": [
        "1130 "
       ]
      },
      {
       "output_type": "stream",
       "stream": "stdout",
       "text": [
        "1140 "
       ]
      },
      {
       "output_type": "stream",
       "stream": "stdout",
       "text": [
        "1150 "
       ]
      },
      {
       "output_type": "stream",
       "stream": "stdout",
       "text": [
        "1160 "
       ]
      },
      {
       "output_type": "stream",
       "stream": "stdout",
       "text": [
        "1170 "
       ]
      },
      {
       "output_type": "stream",
       "stream": "stdout",
       "text": [
        "1180 "
       ]
      },
      {
       "output_type": "stream",
       "stream": "stdout",
       "text": [
        "1190 "
       ]
      },
      {
       "output_type": "stream",
       "stream": "stdout",
       "text": [
        "1200 "
       ]
      },
      {
       "output_type": "stream",
       "stream": "stdout",
       "text": [
        "1210 "
       ]
      },
      {
       "output_type": "stream",
       "stream": "stdout",
       "text": [
        "1220 "
       ]
      },
      {
       "output_type": "stream",
       "stream": "stdout",
       "text": [
        "1230 "
       ]
      },
      {
       "output_type": "stream",
       "stream": "stdout",
       "text": [
        "1240 "
       ]
      },
      {
       "output_type": "stream",
       "stream": "stdout",
       "text": [
        "1250 "
       ]
      },
      {
       "output_type": "stream",
       "stream": "stdout",
       "text": [
        "1260 "
       ]
      },
      {
       "output_type": "stream",
       "stream": "stdout",
       "text": [
        "1270 "
       ]
      },
      {
       "output_type": "stream",
       "stream": "stdout",
       "text": [
        "1280 "
       ]
      },
      {
       "output_type": "stream",
       "stream": "stdout",
       "text": [
        "1290 "
       ]
      },
      {
       "output_type": "stream",
       "stream": "stdout",
       "text": [
        "1300 "
       ]
      },
      {
       "output_type": "stream",
       "stream": "stdout",
       "text": [
        "1310 "
       ]
      },
      {
       "output_type": "stream",
       "stream": "stdout",
       "text": [
        "1320 "
       ]
      },
      {
       "output_type": "stream",
       "stream": "stdout",
       "text": [
        "1330 "
       ]
      },
      {
       "output_type": "stream",
       "stream": "stdout",
       "text": [
        "1340 "
       ]
      },
      {
       "output_type": "stream",
       "stream": "stdout",
       "text": [
        "1350 "
       ]
      },
      {
       "output_type": "stream",
       "stream": "stdout",
       "text": [
        "1360 "
       ]
      },
      {
       "output_type": "stream",
       "stream": "stdout",
       "text": [
        "1370 "
       ]
      },
      {
       "output_type": "stream",
       "stream": "stdout",
       "text": [
        "1380 "
       ]
      },
      {
       "output_type": "stream",
       "stream": "stdout",
       "text": [
        "1390 "
       ]
      },
      {
       "output_type": "stream",
       "stream": "stdout",
       "text": [
        "1400 "
       ]
      },
      {
       "output_type": "stream",
       "stream": "stdout",
       "text": [
        "1410 "
       ]
      },
      {
       "output_type": "stream",
       "stream": "stdout",
       "text": [
        "1420 "
       ]
      },
      {
       "output_type": "stream",
       "stream": "stdout",
       "text": [
        "1430 "
       ]
      },
      {
       "output_type": "stream",
       "stream": "stdout",
       "text": [
        "1440 "
       ]
      },
      {
       "output_type": "stream",
       "stream": "stdout",
       "text": [
        "1450 "
       ]
      },
      {
       "output_type": "stream",
       "stream": "stdout",
       "text": [
        "1460 "
       ]
      },
      {
       "output_type": "stream",
       "stream": "stdout",
       "text": [
        "1470 "
       ]
      },
      {
       "output_type": "stream",
       "stream": "stdout",
       "text": [
        "1480 "
       ]
      },
      {
       "output_type": "stream",
       "stream": "stdout",
       "text": [
        "1490 "
       ]
      },
      {
       "output_type": "stream",
       "stream": "stdout",
       "text": [
        "1500 "
       ]
      },
      {
       "output_type": "stream",
       "stream": "stdout",
       "text": [
        "1510 "
       ]
      },
      {
       "output_type": "stream",
       "stream": "stdout",
       "text": [
        "1520 "
       ]
      },
      {
       "output_type": "stream",
       "stream": "stdout",
       "text": [
        "1530 "
       ]
      },
      {
       "output_type": "stream",
       "stream": "stdout",
       "text": [
        "1540 "
       ]
      },
      {
       "output_type": "stream",
       "stream": "stdout",
       "text": [
        "1550 "
       ]
      },
      {
       "output_type": "stream",
       "stream": "stdout",
       "text": [
        "1560 "
       ]
      },
      {
       "output_type": "stream",
       "stream": "stdout",
       "text": [
        "1570 "
       ]
      },
      {
       "output_type": "stream",
       "stream": "stdout",
       "text": [
        "1580 "
       ]
      },
      {
       "output_type": "stream",
       "stream": "stdout",
       "text": [
        "1590 "
       ]
      },
      {
       "output_type": "stream",
       "stream": "stdout",
       "text": [
        "1600 "
       ]
      },
      {
       "output_type": "stream",
       "stream": "stdout",
       "text": [
        "1610 "
       ]
      },
      {
       "output_type": "stream",
       "stream": "stdout",
       "text": [
        "1620 "
       ]
      },
      {
       "output_type": "stream",
       "stream": "stdout",
       "text": [
        "1630 "
       ]
      },
      {
       "output_type": "stream",
       "stream": "stdout",
       "text": [
        "1640 "
       ]
      },
      {
       "output_type": "stream",
       "stream": "stdout",
       "text": [
        "1650 "
       ]
      },
      {
       "output_type": "stream",
       "stream": "stdout",
       "text": [
        "1660 "
       ]
      },
      {
       "output_type": "stream",
       "stream": "stdout",
       "text": [
        "1670 "
       ]
      },
      {
       "output_type": "stream",
       "stream": "stdout",
       "text": [
        "1680 "
       ]
      },
      {
       "output_type": "stream",
       "stream": "stdout",
       "text": [
        "1690 "
       ]
      },
      {
       "output_type": "stream",
       "stream": "stdout",
       "text": [
        "1700 "
       ]
      },
      {
       "output_type": "stream",
       "stream": "stdout",
       "text": [
        "1710 "
       ]
      },
      {
       "output_type": "stream",
       "stream": "stdout",
       "text": [
        "1720 "
       ]
      },
      {
       "output_type": "stream",
       "stream": "stdout",
       "text": [
        "1730 "
       ]
      },
      {
       "output_type": "stream",
       "stream": "stdout",
       "text": [
        "1740 "
       ]
      },
      {
       "output_type": "stream",
       "stream": "stdout",
       "text": [
        "1750 "
       ]
      },
      {
       "output_type": "stream",
       "stream": "stdout",
       "text": [
        "1760 "
       ]
      },
      {
       "output_type": "stream",
       "stream": "stdout",
       "text": [
        "1770 "
       ]
      },
      {
       "output_type": "stream",
       "stream": "stdout",
       "text": [
        "1780 "
       ]
      },
      {
       "output_type": "stream",
       "stream": "stdout",
       "text": [
        "1790 "
       ]
      },
      {
       "output_type": "stream",
       "stream": "stdout",
       "text": [
        "1800 "
       ]
      },
      {
       "output_type": "stream",
       "stream": "stdout",
       "text": [
        "1810 "
       ]
      },
      {
       "output_type": "stream",
       "stream": "stdout",
       "text": [
        "1820 "
       ]
      },
      {
       "output_type": "stream",
       "stream": "stdout",
       "text": [
        "1830 "
       ]
      },
      {
       "output_type": "stream",
       "stream": "stdout",
       "text": [
        "1840 "
       ]
      },
      {
       "output_type": "stream",
       "stream": "stdout",
       "text": [
        "1850 "
       ]
      },
      {
       "output_type": "stream",
       "stream": "stdout",
       "text": [
        "1860 "
       ]
      },
      {
       "output_type": "stream",
       "stream": "stdout",
       "text": [
        "1870 "
       ]
      },
      {
       "output_type": "stream",
       "stream": "stdout",
       "text": [
        "1880 "
       ]
      },
      {
       "output_type": "stream",
       "stream": "stdout",
       "text": [
        "1890 "
       ]
      },
      {
       "output_type": "stream",
       "stream": "stdout",
       "text": [
        "1900 "
       ]
      },
      {
       "output_type": "stream",
       "stream": "stdout",
       "text": [
        "1910 "
       ]
      },
      {
       "output_type": "stream",
       "stream": "stdout",
       "text": [
        "1920 "
       ]
      },
      {
       "output_type": "stream",
       "stream": "stdout",
       "text": [
        "1930 "
       ]
      },
      {
       "output_type": "stream",
       "stream": "stdout",
       "text": [
        "1940 "
       ]
      },
      {
       "output_type": "stream",
       "stream": "stdout",
       "text": [
        "1950 "
       ]
      },
      {
       "output_type": "stream",
       "stream": "stdout",
       "text": [
        "1960 "
       ]
      },
      {
       "output_type": "stream",
       "stream": "stdout",
       "text": [
        "1970 "
       ]
      },
      {
       "output_type": "stream",
       "stream": "stdout",
       "text": [
        "1980 "
       ]
      },
      {
       "output_type": "stream",
       "stream": "stdout",
       "text": [
        "1990\n"
       ]
      }
     ],
     "prompt_number": 8
    },
    {
     "cell_type": "code",
     "collapsed": false,
     "input": [
      "import subprocess\n",
      "import time\n",
      "import datetime\n",
      "import ephem\n",
      "import urllib2\n",
      "import sys\n",
      "import math\n",
      "\n",
      "url_brightsats = 'http://www.celestrak.com/NORAD/elements/visual.txt'\n",
      "file_brightsats = '/tmp/tle.txt'\n",
      "\n",
      "obs = ephem.Observer()\n",
      "obs.lon,obs.lat,obs.elevation = '-102.212','35.818',1962.0\n",
      "obs.date=datetime.datetime.utcnow()\n",
      "\n",
      "subprocess.call(\"sudo /home/pi/repo/PiBits/ServoBlaster/servod --pcm\".split())\n",
      "sb=open('/dev/servoblaster','w')\n",
      "\n",
      "servo_range = (249,52) # corresponding to servo angles of 0, 180 degrees\n",
      "                       # clockwise looking into the servo from the spline side\n",
      "az_servo_zero = 110;     # azimuth of servo(0,0) pointing\n",
      "\n",
      "altaz_servonums = (5,6) # alt is GPIO 23 = servo 5, az is GPIO 24 = servo 6\n",
      "\n",
      "def point(alt=None,az=None) :\n",
      "    servo_format = \"%d=%%d\\n%d=%%d\\n\" % altaz_servonums\n",
      "    if alt is None or alt < 0 or alt > 90 :\n",
      "        # BNo value or bad elevation, turn off servos\n",
      "        sb.write(servo_format % (0,0));\n",
      "        sb.flush()\n",
      "        return\n",
      "    else :\n",
      "        # \n",
      "        az = (az - az_servo_zero) % 360\n",
      "        # Handle the flip\n",
      "        if az >= 180 :\n",
      "            az -= 180\n",
      "            alt = 180 - alt\n",
      "    servos = tuple([int(servo_range[0] + (servo_range[1]-servo_range[0])*deg/180.0) for deg in (alt,az)])\n",
      "    # print(servo_format)\n",
      "    # print(servos)\n",
      "    sb.write(servo_format % servos)\n",
      "    sb.flush()\n",
      "\n",
      "point(0,0)\n",
      "time.sleep(3)\n",
      "point(90,90)\n",
      "#point(180,0)\n",
      "time.sleep(3)\n",
      "\n",
      "try :\n",
      "    brightsat_tles = urllib2.urlopen(url_brightsats).readlines()\n",
      "    open(file_brightsats,\"w\").write(\"\".join(brightsat_tles))\n",
      "except :\n",
      "    brightsat_tles = open(file_brightsats,\"r\").readlines();\n",
      "\n",
      "print(\"%d satellites found\" % (len(brightsat_tles)/3,))\n",
      "sats = {}\n",
      "for iline in range(0,len(brightsat_tles),3) :\n",
      "    tle0,tle1,tle2 = [l.strip() for l in brightsat_tles[iline:iline+3]]\n",
      "    sats[tle0] = ephem.readtle(tle0.strip(),tle1.strip(),tle2.strip())\n",
      "    #print tle0\n",
      "\n",
      "while 1 :\n",
      "    obs.date=datetime.datetime.utcnow()\n",
      "    for s in sats.values() :\n",
      "        s.compute(obs)\n",
      "        if s.alt > 0 and not s.eclipsed :\n",
      "            print(\"%s: Satellite %20s (#%05d) visible at alt,az = (%.0f,%.0f)\" \n",
      "                    % (obs.date, s.name, s.catalog_number, math.degrees(s.alt), math.degrees(s.az)))\n",
      "            sys.stdout.flush()\n",
      "            while s.alt > 0 and not s.eclipsed :\n",
      "                point(math.degrees(s.alt), math.degrees(s.az))\n",
      "                obs.date=datetime.datetime.utcnow()\n",
      "                s.compute(obs)\n",
      "                time.sleep(0.3)\n",
      "                point()  # to prevent vibration by stoping drive\n",
      "                time.sleep(3)\n",
      "            print(\"%s: Satellite %20s (#%05d) gone at alt,az = (%.0f,%.0f)\" \n",
      "                    % (obs.date, s.name, s.catalog_number, math.degrees(s.alt), math.degrees(s.az)))\n",
      "            sys.stdout.flush()\n",
      "            break\n",
      "    else :\n",
      "        print(\"%s: No satellites visible\" % (obs.date,))\n",
      "        sys.stdout.flush()\n",
      "        point(0,0)\n",
      "        time.sleep(1)\n",
      "        point()  # rest the motors\n",
      "        time.sleep(30)\n",
      "    point() # turn off pointing if nothing found\n",
      "\n",
      "#for j in range(100) :\n",
      "#    for i in range(52,249) :\n",
      "#        az,el = i,i\n",
      "#        sb.write('6=%d\\n5=%d\\n' % (az,el))\n",
      "#        sb.flush()\n",
      "#        print i,\n",
      "#        time.sleep(0.5)\n",
      "sb.close()\n",
      "subprocess.call(\"sudo killall servod\".split())"
     ],
     "language": "python",
     "metadata": {},
     "outputs": [
      {
       "output_type": "stream",
       "stream": "stdout",
       "text": [
        "145 satellites found\n",
        "2013/6/5 04:32:29: Satellite             SL-3 R/B (#19046) visible at alt,az = (19,264)"
       ]
      },
      {
       "output_type": "stream",
       "stream": "stdout",
       "text": [
        "\n"
       ]
      },
      {
       "output_type": "stream",
       "stream": "stdout",
       "text": [
        "2013/6/5 04:38:26: Satellite             SL-3 R/B (#19046) gone at alt,az = (-0,331)\n"
       ]
      },
      {
       "output_type": "stream",
       "stream": "stdout",
       "text": [
        "2013/6/5 04:38:29: Satellite          COSMOS 2058 (#20465) visible at alt,az = (27,33)\n"
       ]
      },
      {
       "output_type": "stream",
       "stream": "stdout",
       "text": [
        "2013/6/5 04:43:08: Satellite          COSMOS 2058 (#20465) gone at alt,az = (-0,13)\n"
       ]
      },
      {
       "output_type": "stream",
       "stream": "stdout",
       "text": [
        "2013/6/5 04:43:11: Satellite          ISS (ZARYA) (#25544) visible at alt,az = (10,289)\n"
       ]
      },
      {
       "output_type": "stream",
       "stream": "stdout",
       "text": [
        "2013/6/5 04:50:29: Satellite          ISS (ZARYA) (#25544) gone at alt,az = (-0,37)\n"
       ]
      },
      {
       "output_type": "stream",
       "stream": "stdout",
       "text": [
        "2013/6/5 04:50:33: Satellite COSMOS 482 DESCENT CRAFT (#06073) visible at alt,az = (18,55)\n"
       ]
      },
      {
       "output_type": "stream",
       "stream": "stdout",
       "text": [
        "2013/6/5 04:57:16: Satellite COSMOS 482 DESCENT CRAFT (#06073) gone at alt,az = (-0,50)\n"
       ]
      },
      {
       "output_type": "stream",
       "stream": "stdout",
       "text": [
        "2013/6/5 04:57:19: No satellites visible\n"
       ]
      },
      {
       "output_type": "stream",
       "stream": "stdout",
       "text": [
        "2013/6/5 04:57:51: No satellites visible\n"
       ]
      },
      {
       "output_type": "stream",
       "stream": "stdout",
       "text": [
        "2013/6/5 04:58:22: No satellites visible\n"
       ]
      },
      {
       "output_type": "stream",
       "stream": "stdout",
       "text": [
        "2013/6/5 04:58:53: Satellite              ENVISAT (#27386) visible at alt,az = (41,242)\n"
       ]
      }
     ],
     "prompt_number": "*"
    },
    {
     "cell_type": "code",
     "collapsed": false,
     "input": [
      "subprocess.call(\"sudo killall servod\".split()"
     ],
     "language": "python",
     "metadata": {},
     "outputs": [
      {
       "output_type": "pyout",
       "prompt_number": 46,
       "text": [
        "1"
       ]
      }
     ],
     "prompt_number": 46
    },
    {
     "cell_type": "code",
     "collapsed": false,
     "input": [
      "import math\n",
      "obs = ephem.Observer()\n",
      "obs.lon,obs.lat,obs.elevation = '-102.212','35.818',1962.0\n",
      "obs.date=datetime.datetime.utcnow()\n",
      "s = sats['HST']\n",
      "s.compute(obs)\n",
      "print s.rise_time,s.set_time,s.\n",
      "print math.degrees(s.alt), s.eclipsed, s.mag, s.az\n",
      "print obs"
     ],
     "language": "python",
     "metadata": {},
     "outputs": [
      {
       "output_type": "stream",
       "stream": "stdout",
       "text": [
        "2013/5/28 03:52:20 2013/5/28 03:57:32\n",
        "-77.2726280051 False 2.0 71:42:05.9\n",
        "<ephem.Observer date='2013/5/28 02:59:39' epoch='2000/1/1 12:00:00' lon=-102:12:43.2 lat=35:49:04.8 elevation=1962.0m horizon=0:00:00.0 temp=15.0C pressure=1010.0mBar>\n"
       ]
      }
     ],
     "prompt_number": 75
    }
   ],
   "metadata": {}
  }
 ]
}